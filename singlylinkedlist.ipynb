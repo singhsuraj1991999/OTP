{
  "nbformat": 4,
  "nbformat_minor": 0,
  "metadata": {
    "colab": {
      "name": "Untitled0.ipynb",
      "provenance": [],
      "collapsed_sections": [],
      "authorship_tag": "ABX9TyN5IXuEcCQyuXb4XlrD9mqv",
      "include_colab_link": true
    },
    "kernelspec": {
      "name": "python3",
      "display_name": "Python 3"
    }
  },
  "cells": [
    {
      "cell_type": "markdown",
      "metadata": {
        "id": "view-in-github",
        "colab_type": "text"
      },
      "source": [
        "<a href=\"https://colab.research.google.com/github/singhsuraj1991999/OTP/blob/master/singlylinkedlist.ipynb\" target=\"_parent\"><img src=\"https://colab.research.google.com/assets/colab-badge.svg\" alt=\"Open In Colab\"/></a>"
      ]
    },
    {
      "cell_type": "code",
      "metadata": {
        "id": "RmdD73RsqGhX",
        "outputId": "83971bc1-20fd-4311-9c58-1c05cf229ae9",
        "colab": {
          "base_uri": "https://localhost:8080/"
        }
      },
      "source": [
        "class node:\n",
        "    def __init__(self,data):\n",
        "        self.data=data\n",
        "        self.next=None\n",
        "\n",
        "class linkedlist:\n",
        "    def __init__(self):\n",
        "        self.start=None\n",
        "\n",
        "    def insert(self,value):\n",
        "        new_node=node(value)\n",
        "        if self.start is None:\n",
        "            self.start=new_node\n",
        "        else:\n",
        "            temp=self.start\n",
        "            while temp.next is not None:\n",
        "                temp=temp.next\n",
        "            temp.next=new_node\n",
        "\n",
        "    def view(self):\n",
        "        if self.start is None:\n",
        "            print(\"linked list is empty\")\n",
        "\n",
        "        else:\n",
        "            temp=self.start\n",
        "            while temp is not None:\n",
        "                print(temp.data,end=\" \")\n",
        "                temp=temp.next\n",
        "\n",
        "    def delete(self,value):\n",
        "        if self.start is value:\n",
        "            self.start== self.start.next\n",
        "        else:\n",
        "            prev=self.start\n",
        "            temp=self.start.next\n",
        "            while temp.next is not None:\n",
        "                if temp.data==value:\n",
        "                    break\n",
        "                prev=prev.next\n",
        "                temp=temp.next\n",
        "            prev.next=temp.next\n",
        "\n",
        "        \n",
        "\n",
        "\n",
        "link=linkedlist()\n",
        "link.insert(20)\n",
        "link.insert(30)\n",
        "link.insert(40)\n",
        "link.insert(50)\n",
        "link.insert(60)\n",
        "link.view()\n",
        "print()\n",
        "link.delete(50)\n",
        "link.view()"
      ],
      "execution_count": 15,
      "outputs": [
        {
          "output_type": "stream",
          "text": [
            "20 30 40 50 60 \n",
            "20 30 40 60 "
          ],
          "name": "stdout"
        }
      ]
    },
    {
      "cell_type": "code",
      "metadata": {
        "id": "UNk8RNJqroRe"
      },
      "source": [
        ""
      ],
      "execution_count": null,
      "outputs": []
    }
  ]
}