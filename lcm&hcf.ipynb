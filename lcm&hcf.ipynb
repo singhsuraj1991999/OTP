{
  "nbformat": 4,
  "nbformat_minor": 0,
  "metadata": {
    "colab": {
      "name": "Untitled1.ipynb",
      "provenance": [],
      "collapsed_sections": [],
      "authorship_tag": "ABX9TyPcQlV+O0gfe/9LakMU5KDq",
      "include_colab_link": true
    },
    "kernelspec": {
      "name": "python3",
      "display_name": "Python 3"
    }
  },
  "cells": [
    {
      "cell_type": "markdown",
      "metadata": {
        "id": "view-in-github",
        "colab_type": "text"
      },
      "source": [
        "<a href=\"https://colab.research.google.com/github/singhsuraj1991999/OTP/blob/master/lcm%26hcf.ipynb\" target=\"_parent\"><img src=\"https://colab.research.google.com/assets/colab-badge.svg\" alt=\"Open In Colab\"/></a>"
      ]
    },
    {
      "cell_type": "code",
      "metadata": {
        "id": "4AH82Vxevy-V",
        "outputId": "23f5b4d8-ee84-48cb-b61e-e786e440f032",
        "colab": {
          "base_uri": "https://localhost:8080/"
        }
      },
      "source": [
        "\n",
        "def lcm(num1,num2):\n",
        "    if num1>num2:\n",
        "        greater=num1\n",
        "    else:\n",
        "        greater=num2\n",
        "\n",
        "    while True:\n",
        "        if greater%num1==0 and greater%num2==0:\n",
        "            lcm=greater\n",
        "            break\n",
        "        greater+=1\n",
        "    print(\"lcm:\",lcm)\n",
        "\n",
        "def hcf(num1,num2):\n",
        "    if num1<num2:\n",
        "        small=num1\n",
        "    else:\n",
        "        small=num2\n",
        "    for i in range(1,small+1):\n",
        "        if num1%i==0 and num2%i==0:\n",
        "            hcf=i\n",
        "    print(\"hcf:\",hcf)\n",
        "num1=int(input(\"enter the num1: \"))\n",
        "num2=int(input(\"enter the num2: \"))\n",
        "\n",
        "lcm(num1,num2)\n",
        "hcf(num1,num2)\n",
        "\n",
        "    "
      ],
      "execution_count": 4,
      "outputs": [
        {
          "output_type": "stream",
          "text": [
            "enter the num1: 4\n",
            "enter the num2: 8\n",
            "lcm: 8\n",
            "hcf: 4\n"
          ],
          "name": "stdout"
        }
      ]
    },
    {
      "cell_type": "code",
      "metadata": {
        "id": "l1tjT7rawUwx"
      },
      "source": [
        ""
      ],
      "execution_count": null,
      "outputs": []
    }
  ]
}