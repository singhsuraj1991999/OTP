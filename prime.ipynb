{
  "nbformat": 4,
  "nbformat_minor": 0,
  "metadata": {
    "colab": {
      "name": "Untitled2.ipynb",
      "provenance": [],
      "authorship_tag": "ABX9TyOuBoBZjei4U8lKxclvMizk",
      "include_colab_link": true
    },
    "kernelspec": {
      "name": "python3",
      "display_name": "Python 3"
    }
  },
  "cells": [
    {
      "cell_type": "markdown",
      "metadata": {
        "id": "view-in-github",
        "colab_type": "text"
      },
      "source": [
        "<a href=\"https://colab.research.google.com/github/singhsuraj1991999/OTP/blob/master/prime.ipynb\" target=\"_parent\"><img src=\"https://colab.research.google.com/assets/colab-badge.svg\" alt=\"Open In Colab\"/></a>"
      ]
    },
    {
      "cell_type": "code",
      "metadata": {
        "id": "zzbXJe4X-4WQ",
        "outputId": "3de6c285-0e2f-4f88-fd39-aa1e902c93e1",
        "colab": {
          "base_uri": "https://localhost:8080/"
        }
      },
      "source": [
        "def prime(number):\n",
        "    count=0\n",
        "    if number>0:\n",
        "        for num in range(1,number):\n",
        "            if num>1:\n",
        "                for j in range(2,num):\n",
        "                    if num%j==0:\n",
        "                        break\n",
        "                else:\n",
        "                   print(num,end=', ')\n",
        "                   count+=1\n",
        "    print(\"count of prime number: \",count)\n",
        "\n",
        "if __name__==\"__main__\":\n",
        "    number=int(input(\"enter the number\"))\n",
        "    prime(number)"
      ],
      "execution_count": 13,
      "outputs": [
        {
          "output_type": "stream",
          "text": [
            "enter the number100\n",
            "2, 3, 5, 7, 11, 13, 17, 19, 23, 29, 31, 37, 41, 43, 47, 53, 59, 61, 67, 71, 73, 79, 83, 89, 97, count of prime number:  25\n"
          ],
          "name": "stdout"
        }
      ]
    },
    {
      "cell_type": "code",
      "metadata": {
        "id": "-1VQ-lSH_d3x"
      },
      "source": [
        ""
      ],
      "execution_count": 3,
      "outputs": []
    }
  ]
}