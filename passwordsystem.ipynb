{
  "nbformat": 4,
  "nbformat_minor": 0,
  "metadata": {
    "colab": {
      "name": "Untitled",
      "provenance": [],
      "collapsed_sections": [],
      "authorship_tag": "ABX9TyN+OHQNTNxSeE9e5X/tPRCz",
      "include_colab_link": true
    },
    "kernelspec": {
      "name": "python3",
      "display_name": "Python 3"
    }
  },
  "cells": [
    {
      "cell_type": "markdown",
      "metadata": {
        "id": "view-in-github",
        "colab_type": "text"
      },
      "source": [
        "<a href=\"https://colab.research.google.com/github/singhsuraj1991999/OTP/blob/master/passwordsystem.ipynb\" target=\"_parent\"><img src=\"https://colab.research.google.com/assets/colab-badge.svg\" alt=\"Open In Colab\"/></a>"
      ]
    },
    {
      "cell_type": "markdown",
      "metadata": {
        "id": "A2hbZXm03weX"
      },
      "source": [
        "## ***Chatbot***\n"
      ]
    },
    {
      "cell_type": "code",
      "metadata": {
        "id": "xUdyg7hW3tw3",
        "outputId": "1cd1fd98-8f47-4281-c744-be7208ba044e",
        "colab": {
          "base_uri": "https://localhost:8080/"
        }
      },
      "source": [
        "value=['suraj','ajay','dimple']\n",
        "answar=input(\"enter the name: \")\n",
        "if answar in value:\n",
        "  print(\"hello \"+answar)\n",
        "else:\n",
        "  print(\"this is not a valid name\")"
      ],
      "execution_count": null,
      "outputs": [
        {
          "output_type": "stream",
          "text": [
            "enter the name: ajay\n",
            "hello ajay\n"
          ],
          "name": "stdout"
        }
      ]
    },
    {
      "cell_type": "code",
      "metadata": {
        "id": "u_ChtCoL4MPy",
        "outputId": "44b06ab5-a4da-402b-ce2a-beec47408dd5",
        "colab": {
          "base_uri": "https://localhost:8080/"
        }
      },
      "source": [
        "import random\n",
        "otp=random.randint(1,99)\n",
        "print(otp)\n",
        "value=int(input(\"enter the varification code: \"))\n",
        "if value==otp:\n",
        "  print(\"your varification is succesfull\")\n",
        "else:\n",
        "  print(\"your entered code is wrong\")"
      ],
      "execution_count": null,
      "outputs": [
        {
          "output_type": "stream",
          "text": [
            "80\n",
            "enter the varification code: 80\n",
            "your varification is succesfull\n"
          ],
          "name": "stdout"
        }
      ]
    },
    {
      "cell_type": "code",
      "metadata": {
        "id": "6zwHULVJ5hoV",
        "outputId": "4c3b000f-9f22-41c8-d6f7-c4693a7b9047",
        "colab": {
          "base_uri": "https://localhost:8080/"
        }
      },
      "source": [
        "import string\n",
        "storage=set()\n",
        "number=['1','2','3','4','5','6','7','8','9','0']\n",
        "symbol=['!','@','#','$','%','^','&','*','(',')','[',']','{','}']\n",
        "\n",
        "count,sym,num=0,0,0\n",
        "\n",
        "greater=[]\n",
        "small=[]\n",
        "answer=[]\n",
        "\n",
        "\n",
        "for alpha in string.ascii_uppercase:\n",
        "  greater.append(alpha)\n",
        "\n",
        "\n",
        "for salpha in string.ascii_lowercase:\n",
        "  small.append(salpha)\n",
        "\n",
        "small.remove(small[0])\n",
        "\n",
        "w=1\n",
        "while w==1:\n",
        "    val=input(\"enter the string: \")\n",
        "\n",
        "    for i in val:\n",
        "        answer.append(i)\n",
        "\n",
        "    for i in answer:\n",
        "        if i in greater or i in small or symbol or nummber:\n",
        "\n",
        "            if i in greater:\n",
        "                count+=1\n",
        "\n",
        "            if i in symbol:\n",
        "                sym+=1\n",
        "\n",
        "            if i in number:\n",
        "                num+=1\n",
        "\n",
        "    if count>0 and sym>0 and num>0:\n",
        "        print(\"enter string is ok for the password\")\n",
        "        if val in storage:\n",
        "            print(\" but password is already availble\")\n",
        "            continue\n",
        "        storage.add(val)\n",
        "        print(storage)\n",
        "        \n",
        "    else:\n",
        "        print(\"not ok for the password\")\n",
        "\n",
        "        if count<1:\n",
        "            print(\"there is not an uppercase alphabet avilable in the password\")\n",
        "\n",
        "        if sym<1:\n",
        "            print(\"there is not an symbol is avilable in the password\")\n",
        "\n",
        "        if num<1:\n",
        "            print(\"there is not an number is avilable in the password\")\n",
        "    w=int(input(\"if you want to continue press 1\"))    "
      ],
      "execution_count": null,
      "outputs": [
        {
          "output_type": "stream",
          "text": [
            "enter string is ok for the password\n",
            "{'Suraj@1999'}\n",
            "enter string is ok for the password\n",
            " but password is already availble\n",
            "enter string is ok for the password\n",
            "{'Suraj@1999', 'Ajay@2004'}\n",
            "enter string is ok for the password\n",
            "{'Suraj@1999', 'Dimple@1998', 'Ajay@2004'}\n"
          ],
          "name": "stdout"
        }
      ]
    },
    {
      "cell_type": "code",
      "metadata": {
        "id": "084hrxW17Con"
      },
      "source": [
        ""
      ],
      "execution_count": 61,
      "outputs": []
    }
  ]
}